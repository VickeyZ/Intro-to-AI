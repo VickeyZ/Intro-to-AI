{
 "cells": [
  {
   "cell_type": "code",
   "execution_count": 62,
   "metadata": {},
   "outputs": [],
   "source": [
    "import tensorflow as tf\n",
    "import numpy as np\n",
    "import matplotlib.pyplot as plt\n",
    "%matplotlib inline"
   ]
  },
  {
   "cell_type": "code",
   "execution_count": 63,
   "metadata": {},
   "outputs": [],
   "source": [
    "# Parameters\n",
    "learning_rate = 0.01\n",
    "training_epochs = 1000\n",
    "display_step = 50"
   ]
  },
  {
   "cell_type": "code",
   "execution_count": 64,
   "metadata": {},
   "outputs": [],
   "source": [
    "# Training Data\n",
    "x0=[3.3,4.4,5.5,6.71,6.93,4.168,9.779,6.182,\\\n",
    "   7.59,2.167,7.042,10.791,5.313,7.997,5.654,9.27,3.1]\n",
    "y0=[1.7,2.76,2.09,3.19,1.694,1.573,3.366,2.596,\\\n",
    "   2.53,1.221,2.827,3.465,1.65,2.904,2.42,2.94,1.3]\n",
    "# Testing Data\n",
    "x1=[6.83, 4.668, 8.9, 7.91, 5.7, 8.7, 3.1, 2.1]\n",
    "y1=[1.84, 2.273, 3.2, 2.831, 2.92, 3.24, 1.35, 1.03]"
   ]
  },
  {
   "cell_type": "code",
   "execution_count": 65,
   "metadata": {},
   "outputs": [
    {
     "data": {
      "image/png": "[encoded data removed]",
      "text/plain": [
       "<Figure size 432x288 with 2 Axes>"
      ]
     },
     "metadata": {
      "needs_background": "light"
     },
     "output_type": "display_data"
    }
   ],
   "source": [
    "# data illustration\n",
    "plt.subplot(121)\n",
    "plt.title('Original train data')\n",
    "plt.plot(x0, y0, 'ro')\n",
    "plt.subplot(122)\n",
    "plt.title('Testing data')\n",
    "plt.plot(x1, y1, 'bo')\n",
    "plt.show()"
   ]
  },
  {
   "cell_type": "code",
   "execution_count": 66,
   "metadata": {},
   "outputs": [
    {
     "name": "stdout",
     "output_type": "stream",
     "text": [
      "[[ 3.3  ]\n",
      " [ 4.4  ]\n",
      " [ 5.5  ]\n",
      " [ 6.71 ]\n",
      " [ 6.93 ]\n",
      " [ 4.168]\n",
      " [ 9.779]\n",
      " [ 6.182]\n",
      " [ 7.59 ]\n",
      " [ 2.167]\n",
      " [ 7.042]\n",
      " [10.791]\n",
      " [ 5.313]\n",
      " [ 7.997]\n",
      " [ 5.654]\n",
      " [ 9.27 ]\n",
      " [ 3.1  ]]\n",
      "[[1.7  ]\n",
      " [2.76 ]\n",
      " [2.09 ]\n",
      " [3.19 ]\n",
      " [1.694]\n",
      " [1.573]\n",
      " [3.366]\n",
      " [2.596]\n",
      " [2.53 ]\n",
      " [1.221]\n",
      " [2.827]\n",
      " [3.465]\n",
      " [1.65 ]\n",
      " [2.904]\n",
      " [2.42 ]\n",
      " [2.94 ]\n",
      " [1.3  ]]\n"
     ]
    }
   ],
   "source": [
    "# data process\n",
    "# referring: numpy.array numpy.reshape\n",
    "x0 = np.array(x0, dtype = np.float32).reshape(-1, 1)\n",
    "print(x0)\n",
    "y0 = np.array(y0, dtype = np.float32).reshape(-1, 1)\n",
    "print(y0)"
   ]
  },
  {
   "cell_type": "code",
   "execution_count": 67,
   "metadata": {},
   "outputs": [],
   "source": [
    "# train process\n",
    "# step1 Graph Input\n",
    "# referring: tf.placeholder\n",
    "x_train = tf.placeholder(tf.float32,(None,1))\n",
    "y_train = tf.placeholder(tf.float32,(None,1))"
   ]
  },
  {
   "cell_type": "code",
   "execution_count": 68,
   "metadata": {},
   "outputs": [],
   "source": [
    "# step2 Set model weights\n",
    "# referring: tf.Variable\n",
    "\n",
    "w=tf.Variable(np.random.rand(1,1),dtype=tf.float32)\n",
    "b=tf.Variable(np.random.rand(1,),dtype=tf.float32)"
   ]
  },
  {
   "cell_type": "code",
   "execution_count": 69,
   "metadata": {},
   "outputs": [],
   "source": [
    "# step3 Construct a logistic model\n",
    "# referring: y=wx+b\n",
    "\n",
    "pred=tf.add(tf.matmul(x_train,w),b)"
   ]
  },
  {
   "cell_type": "code",
   "execution_count": 70,
   "metadata": {},
   "outputs": [],
   "source": [
    "# step4 Construct (Mean squared) loss\n",
    "# referring: tf.reduce_mean tf.reduce_sum\n",
    "\n",
    "loss=tf.reduce_mean(tf.pow(pred-y_train,2))"
   ]
  },
  {
   "cell_type": "code",
   "execution_count": 71,
   "metadata": {},
   "outputs": [],
   "source": [
    "# step5 Declare optimizer method\n",
    "# referring: tf.train.GradientDescentOptimizer tf.train.AdamOptimizer\n",
    "\n",
    "optim=tf.train.GradientDescentOptimizer(learning_rate).minimize(loss)"
   ]
  },
  {
   "cell_type": "code",
   "execution_count": 72,
   "metadata": {},
   "outputs": [
    {
     "name": "stdout",
     "output_type": "stream",
     "text": [
      "Epoch   50 cost: 0.182718739\n",
      "Epoch  100 cost: 0.176491216\n",
      "Epoch  150 cost: 0.171607450\n",
      "Epoch  200 cost: 0.167777419\n",
      "Epoch  250 cost: 0.164773911\n",
      "Epoch  300 cost: 0.162418440\n",
      "Epoch  350 cost: 0.160571247\n",
      "Epoch  400 cost: 0.159122586\n",
      "Epoch  450 cost: 0.157986552\n",
      "Epoch  500 cost: 0.157095656\n",
      "Epoch  550 cost: 0.156396970\n",
      "Epoch  600 cost: 0.155849069\n",
      "Epoch  650 cost: 0.155419350\n",
      "Epoch  700 cost: 0.155082345\n",
      "Epoch  750 cost: 0.154818058\n",
      "Epoch  800 cost: 0.154610902\n",
      "Epoch  850 cost: 0.154448345\n",
      "Epoch  900 cost: 0.154320896\n",
      "Epoch  950 cost: 0.154220939\n",
      "Epoch 1000 cost: 0.154142544\n",
      "Optimization Finished!\n",
      "Training modal w: 0.25838, b: 0.75095\n"
     ]
    }
   ],
   "source": [
    "# step6 Create session, initial variables, feed data and print result\n",
    "# referring: tf.Session() Sess.run()\\\n",
    "# tf.global_variables_initializer() tf.local_variables_initializer() \n",
    "\n",
    "with tf.Session() as sess:\n",
    "    sess.run(tf.global_variables_initializer())\n",
    "    sess.run(tf.local_variables_initializer())\n",
    "\n",
    "    #start train model\n",
    "    for epoch in range(training_epochs):\n",
    "        pred_y,l,_=sess.run([pred,loss,optim],feed_dict={x_train:x0,y_train:y0})\n",
    "        # Display logs per epoch step\n",
    "        if (epoch + 1) % display_step == 0:\n",
    "            print(\"Epoch {:4d} cost: {:.9f}\".format((epoch + 1),l))\n",
    "    print(\"Optimization Finished!\")\n",
    "    final_w=np.squeeze(sess.run(w))\n",
    "    final_b=np.squeeze(sess.run(b))\n",
    "    print(\"Training modal w: {:.5f}, b: {:.5f}\".format(final_w,final_b))"
   ]
  },
  {
   "cell_type": "code",
   "execution_count": 73,
   "metadata": {},
   "outputs": [
    {
     "data": {
      "image/png": "[encoded data removed]",
      "text/plain": [
       "<Figure size 432x288 with 1 Axes>"
      ]
     },
     "metadata": {
      "needs_background": "light"
     },
     "output_type": "display_data"
    }
   ],
   "source": [
    "# display the fitting line\n",
    "# plot the trained model point(input x and output y0')\n",
    "plt.plot(x0, y0, 'ro', label='Original data')\n",
    "plt.plot(x0,final_w * x0 + final_b, 'g',label='Fitted line')\n",
    "plt.show()"
   ]
  },
  {
   "cell_type": "code",
   "execution_count": 74,
   "metadata": {},
   "outputs": [
    {
     "data": {
      "image/png": "[encoded data removed]",
      "text/plain": [
       "<Figure size 432x288 with 1 Axes>"
      ]
     },
     "metadata": {
      "needs_background": "light"
     },
     "output_type": "display_data"
    }
   ],
   "source": [
    "# test process\n",
    "# same method as train above to get predict y\n",
    "\n",
    "x1 = np.array(x1, dtype = np.float32).reshape(-1, 1)\n",
    "y1 = np.array(y1, dtype = np.float32).reshape(-1, 1)\n",
    "\n",
    "# display the test result\n",
    "plt.plot(x1, y1, 'bo', label='Testing data')\n",
    "plt.plot(x1,x1 * final_w + final_b , 'g',label='Fitted line')\n",
    "plt.show()"
   ]
  }
 ],
 "metadata": {
  "kernelspec": {
   "display_name": "Python 3",
   "language": "python",
   "name": "python3"
  },
  "language_info": {
   "codemirror_mode": {
    "name": "ipython",
    "version": 3
   },
   "file_extension": ".py",
   "mimetype": "text/x-python",
   "name": "python",
   "nbconvert_exporter": "python",
   "pygments_lexer": "ipython3",
   "version": "3.7.1"
  }
 },
 "nbformat": 4,
 "nbformat_minor": 1
}
