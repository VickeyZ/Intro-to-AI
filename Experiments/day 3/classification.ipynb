{
 "cells": [
  {
   "cell_type": "code",
   "execution_count": 36,
   "metadata": {},
   "outputs": [],
   "source": [
    "import tensorflow as tf\n",
    "import numpy as np\n",
    "import matplotlib.pyplot as plt\n",
    "%matplotlib inline"
   ]
  },
  {
   "cell_type": "code",
   "execution_count": 37,
   "metadata": {},
   "outputs": [],
   "source": [
    "# Parameters\n",
    "learning_rate = 0.01\n",
    "training_epochs = 1000\n",
    "display_step = 50"
   ]
  },
  {
   "cell_type": "code",
   "execution_count": 38,
   "metadata": {},
   "outputs": [],
   "source": [
    "# Training Data\n",
    "x0=[3.3,4.4,5.5,6.71,6.93,4.168,9.779,6.182,\\\n",
    "   7.59,2.167,7.042,10.791,5.313,7.997,5.654,9.27,3.1]\n",
    "y0=[1.7,2.76,2.09,3.19,1.694,1.573,3.366,2.596,\\\n",
    "   2.53,1.221,2.827,3.465,1.65,2.904,2.42,2.94,1.3]\n",
    "l0=[1,1,1,1,0,1,0,1,0,1,1,0,0,1,1,0,1]\n",
    "# Testing Data\n",
    "x1=[6.83, 4.668, 8.9, 7.91, 5.7, 8.7, 3.1, 2.1]\n",
    "y1=[1.84, 2.273, 3.2, 2.831, 2.92, 3.24, 1.35, 1.03]\n",
    "l1=[0, 1, 1, 0, 1, 1, 1, 1]"
   ]
  },
  {
   "cell_type": "code",
   "execution_count": 39,
   "metadata": {},
   "outputs": [
    {
     "data": {
      "image/png": "[encoded data removed]",
      "text/plain": [
       "<Figure size 432x288 with 2 Axes>"
      ]
     },
     "metadata": {
      "needs_background": "light"
     },
     "output_type": "display_data"
    }
   ],
   "source": [
    "# data illustration\n",
    "x0=np.asarray(x0)\n",
    "y0=np.asarray(y0)\n",
    "l0=np.asarray(l0)\n",
    "pos_index=np.where(l0==1)\n",
    "neg_index=np.where(l0==0)\n",
    "plt.subplot(1, 2, 1)\n",
    "plt.title('train data label')\n",
    "plt.plot(x0[pos_index], y0[pos_index], 'ro')\n",
    "plt.plot(x0[neg_index], y0[neg_index], 'bo')\n",
    "plt.subplot(1,2,2)\n",
    "plt.title('test data')\n",
    "plt.plot(x1,y1,'ko')\n",
    "plt.show()"
   ]
  },
  {
   "cell_type": "code",
   "execution_count": 49,
   "metadata": {},
   "outputs": [
    {
     "name": "stdout",
     "output_type": "stream",
     "text": [
      "[[ 3.3  ]\n",
      " [ 4.4  ]\n",
      " [ 5.5  ]\n",
      " [ 6.71 ]\n",
      " [ 6.93 ]\n",
      " [ 4.168]\n",
      " [ 9.779]\n",
      " [ 6.182]\n",
      " [ 7.59 ]\n",
      " [ 2.167]\n",
      " [ 7.042]\n",
      " [10.791]\n",
      " [ 5.313]\n",
      " [ 7.997]\n",
      " [ 5.654]\n",
      " [ 9.27 ]\n",
      " [ 3.1  ]]\n",
      "[[1.]\n",
      " [1.]\n",
      " [1.]\n",
      " [1.]\n",
      " [0.]\n",
      " [1.]\n",
      " [0.]\n",
      " [1.]\n",
      " [0.]\n",
      " [1.]\n",
      " [1.]\n",
      " [0.]\n",
      " [0.]\n",
      " [1.]\n",
      " [1.]\n",
      " [0.]\n",
      " [1.]]\n"
     ]
    }
   ],
   "source": [
    "# data process\n",
    "X0 = np.array(x0, dtype = np.float32).reshape(len(x0), 1)\n",
    "print(X0)\n",
    "L0 = np.array(l0, dtype = np.float32).reshape(len(x0), 1)\n",
    "print(L0)"
   ]
  },
  {
   "cell_type": "code",
   "execution_count": 50,
   "metadata": {},
   "outputs": [
    {
     "name": "stdout",
     "output_type": "stream",
     "text": [
      "Epoch   50 cost: 2.493007421\n",
      "Epoch  100 cost: 2.493007421\n",
      "Epoch  150 cost: 2.493007421\n",
      "Epoch  200 cost: 2.493007421\n",
      "Epoch  250 cost: 2.493007421\n",
      "Epoch  300 cost: 2.493007421\n",
      "Epoch  350 cost: 2.493007421\n",
      "Epoch  400 cost: 2.493007421\n",
      "Epoch  450 cost: 2.493007421\n",
      "Epoch  500 cost: 2.493007421\n",
      "Epoch  550 cost: 2.493007421\n",
      "Epoch  600 cost: 2.493007421\n",
      "Epoch  650 cost: 2.493007421\n",
      "Epoch  700 cost: 2.493007421\n",
      "Epoch  750 cost: 2.493007421\n",
      "Epoch  800 cost: 2.493007421\n",
      "Epoch  850 cost: 2.493007421\n",
      "Epoch  900 cost: 2.493007421\n",
      "Epoch  950 cost: 2.493007421\n",
      "Epoch 1000 cost: 2.493007421\n",
      "Optimization Finished!\n",
      "Training modal w: -0.12335, b: 1.40798\n"
     ]
    }
   ],
   "source": [
    "# train process\n",
    "# plot train result\n",
    "#referring: np.where\n",
    "\n",
    "#Graph input\n",
    "x_train = tf.placeholder(tf.float32,(None,1))\n",
    "l_train = tf.placeholder(tf.float32,(None,1))\n",
    "\n",
    "#Set model weights\n",
    "w=tf.Variable(np.random.rand(1,1),dtype=tf.float32)\n",
    "b=tf.Variable(np.random.rand(1,),dtype=tf.float32)\n",
    "\n",
    "#Construct a logistic model\n",
    "pred = tf.add(tf.matmul(x_train, w), b)\n",
    "\n",
    "#Construct loss\n",
    "loss = tf.reduce_mean(tf.pow(pred - l_train, 2))\n",
    "\n",
    "#Declare optimizer method\n",
    "optim = tf.train.GradientDescentOptimizer(learning_rate).minimize(loss)\n",
    "\n",
    "# Create session, initial variables, feed data and print result\n",
    "with tf.Session() as sess:\n",
    "    sess.run(tf.global_variables_initializer())\n",
    "    sess.run(tf.local_variables_initializer())\n",
    "\n",
    "    #start train model\n",
    "    for epoch in range(training_epochs):\n",
    "        pred_l, l, _ = sess.run([pred,loss,optim], feed_dict = {x_train:X0, l_train:L0})\n",
    "        # Display logs per epoch step\n",
    "        if (epoch + 1) % display_step == 0:\n",
    "            print(\"Epoch {:4d} cost: {:.9f}\".format((epoch + 1), loss_))\n",
    "            \n",
    "    print(\"Optimization Finished!\")\n",
    "    final_w = np.squeeze(sess.run(w))\n",
    "    final_b = np.squeeze(sess.run(b))\n",
    "    print(\"Training modal w: {:.5f}, b: {:.5f}\".format(final_w, final_b))"
   ]
  },
  {
   "cell_type": "code",
   "execution_count": 51,
   "metadata": {},
   "outputs": [
    {
     "ename": "IndexError",
     "evalue": "too many indices for array",
     "traceback": [
      "\u001b[1;31m---------------------------------------------------------------------------\u001b[0m",
      "\u001b[1;31mIndexError\u001b[0m                                Traceback (most recent call last)",
      "\u001b[1;32m<ipython-input-51-1ef6d71563d9>\u001b[0m in \u001b[0;36m<module>\u001b[1;34m\u001b[0m\n\u001b[0;32m      6\u001b[0m \u001b[0mneg_index\u001b[0m \u001b[1;33m=\u001b[0m \u001b[0mnp\u001b[0m\u001b[1;33m.\u001b[0m\u001b[0mwhere\u001b[0m\u001b[1;33m(\u001b[0m\u001b[0mpred_l0\u001b[0m \u001b[1;33m<=\u001b[0m \u001b[1;36m0.5\u001b[0m\u001b[1;33m)\u001b[0m\u001b[1;33m\u001b[0m\u001b[1;33m\u001b[0m\u001b[0m\n\u001b[0;32m      7\u001b[0m \u001b[0mplt\u001b[0m\u001b[1;33m.\u001b[0m\u001b[0mtitle\u001b[0m\u001b[1;33m(\u001b[0m\u001b[1;34m'train data label'\u001b[0m\u001b[1;33m)\u001b[0m\u001b[1;33m\u001b[0m\u001b[1;33m\u001b[0m\u001b[0m\n\u001b[1;32m----> 8\u001b[1;33m \u001b[0mplt\u001b[0m\u001b[1;33m.\u001b[0m\u001b[0mplot\u001b[0m\u001b[1;33m(\u001b[0m\u001b[0mx0\u001b[0m\u001b[1;33m[\u001b[0m\u001b[0mpos_index\u001b[0m\u001b[1;33m]\u001b[0m\u001b[1;33m,\u001b[0m \u001b[0my0\u001b[0m\u001b[1;33m[\u001b[0m\u001b[0mpos_index\u001b[0m\u001b[1;33m]\u001b[0m\u001b[1;33m,\u001b[0m \u001b[1;34m'ro'\u001b[0m\u001b[1;33m)\u001b[0m\u001b[1;33m\u001b[0m\u001b[1;33m\u001b[0m\u001b[0m\n\u001b[0m\u001b[0;32m      9\u001b[0m \u001b[0mplt\u001b[0m\u001b[1;33m.\u001b[0m\u001b[0mplot\u001b[0m\u001b[1;33m(\u001b[0m\u001b[0mx0\u001b[0m\u001b[1;33m[\u001b[0m\u001b[0mneg_index\u001b[0m\u001b[1;33m]\u001b[0m\u001b[1;33m,\u001b[0m \u001b[0my0\u001b[0m\u001b[1;33m[\u001b[0m\u001b[0mneg_index\u001b[0m\u001b[1;33m]\u001b[0m\u001b[1;33m,\u001b[0m \u001b[1;34m'bo'\u001b[0m\u001b[1;33m)\u001b[0m\u001b[1;33m\u001b[0m\u001b[1;33m\u001b[0m\u001b[0m\n",
      "\u001b[1;31mIndexError\u001b[0m: too many indices for array"
     ],
     "output_type": "error"
    },
    {
     "data": {
      "image/png": "[encoded data removed]",
      "text/plain": [
       "<Figure size 432x288 with 1 Axes>"
      ]
     },
     "metadata": {
      "needs_background": "light"
     },
     "output_type": "display_data"
    }
   ],
   "source": [
    "# display the fitting line\n",
    "# plot the trained model point\n",
    "\n",
    "pred_l0 = final_w * x0 + final_b\n",
    "pos_index = np.where(pred_l0 > 0.5)\n",
    "neg_index = np.where(pred_l0 <= 0.5)\n",
    "plt.title('train data label')\n",
    "plt.plot(x0[pos_index], y0[pos_index], 'ro')\n",
    "plt.plot(x0[neg_index], y0[neg_index], 'bo')"
   ]
  },
  {
   "cell_type": "code",
   "execution_count": 52,
   "metadata": {},
   "outputs": [
    {
     "data": {
      "text/plain": [
       "[<matplotlib.lines.Line2D at 0x1ae7fd6bf60>]"
      ]
     },
     "execution_count": 52,
     "metadata": {},
     "output_type": "execute_result"
    },
    {
     "data": {
      "image/png": "[encoded data removed]",
      "text/plain": [
       "<Figure size 432x288 with 1 Axes>"
      ]
     },
     "metadata": {
      "needs_background": "light"
     },
     "output_type": "display_data"
    }
   ],
   "source": [
    "# test process\n",
    "# plot test result\n",
    "\n",
    "x1=np.asarray(x1)\n",
    "y1=np.asarray(y1)\n",
    "pred_l1 = final_w * x1 + final_b\n",
    "pos_index_test = np.where(pred_l1 > 0.5)\n",
    "neg_index_test = np.where(pred_l1 <= 0.5)\n",
    "plt.title('test data label')\n",
    "plt.plot(x1[pos_index_test], y1[pos_index_test], 'ro')\n",
    "plt.plot(x1[neg_index_test], y1[neg_index_test], 'bo')"
   ]
  }
 ],
 "metadata": {
  "kernelspec": {
   "display_name": "Python 3",
   "language": "python",
   "name": "python3"
  },
  "language_info": {
   "codemirror_mode": {
    "name": "ipython",
    "version": 3
   },
   "file_extension": ".py",
   "mimetype": "text/x-python",
   "name": "python",
   "nbconvert_exporter": "python",
   "pygments_lexer": "ipython3",
   "version": "3.7.1"
  }
 },
 "nbformat": 4,
 "nbformat_minor": 1
}
